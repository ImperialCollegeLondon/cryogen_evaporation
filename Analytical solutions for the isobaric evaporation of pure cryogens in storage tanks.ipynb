{
 "cells": [
  {
   "cell_type": "markdown",
   "metadata": {},
   "source": [
    "## Supplementary material\n",
    "\n",
    "This jupyter notebook accompanies the research article \"Analytical solutions for the evaporation of pure cryogens in storage tanks\" to provide software implementation of the developed analytical solutions. The notebook is organized in three subsections. In the first subsection, classes for storage tanks and cryogens are created and their attributes are listed. In the second subsection, the analytical solutions and auxiliary functions are defined for both equilibrium and non-equilibrium models. After the definitions, a storage tank and a cryogen are initialized as an example, and examples of implemented classes and solutions are provided. The last section describes the numerical methods required to implement the solutions for (i) direct calculation, (ii) thermophysical iteration and (iii) sequential calculation.\n",
    "\n",
    "For further information please contact : \n",
    "\n",
    "Felipe Huerta, f.huerta-perez17@imperial.ac.uk, Velisa Vesovic, v.vesovic@imperial.ac.uk "
   ]
  },
  {
   "cell_type": "markdown",
   "metadata": {},
   "source": [
    "### Import required packages and libraries"
   ]
  },
  {
   "cell_type": "code",
   "execution_count": 1,
   "metadata": {},
   "outputs": [],
   "source": [
    "# Import relevant packages\n",
    "import numpy as np\n",
    "import matplotlib.pyplot as plt\n",
    "import copy # Copy constructor\n",
    "%matplotlib inline "
   ]
  },
  {
   "cell_type": "markdown",
   "metadata": {},
   "source": [
    "# Classes definitions\n",
    "To facilitate the implementation of the analtical solutions, two classes were defined."
   ]
  },
  {
   "cell_type": "markdown",
   "metadata": {},
   "source": [
    "## Storage tank class\n",
    "The storage tank class contains information on the geometrical and thermal properties of a vertical cylindrical storage tank"
   ]
  },
  {
   "cell_type": "code",
   "execution_count": 2,
   "metadata": {},
   "outputs": [],
   "source": [
    "class Tank:\n",
    "    \"\"\" Class to be used as a container for the \n",
    "    evaporation of pure cryogens\"\"\"\n",
    "    def __init__(self, d_i, d_o, V):\n",
    "        \"\"\" Class constructor \"\"\"\n",
    "        # Compulsory parameters\n",
    "        self.d_i = d_i # [m] Tank internal diameter \n",
    "        self.d_o = d_o # [m] Tank external diameter\n",
    "        self.V = V     # [m^3] Tank volume\n",
    "        self.A_T = np.pi*d_i**2/4 # [m^2] Area of the surface\n",
    "        # perpendicular to the vertical axis\n",
    "        self.l = V/self.A_T # [m] Tank height\n",
    "        self.roof_BC = 'Neumann' # Roof Temperature boundary condition,\n",
    "        # \"Neumann\" or \"Robin\"\n",
    "        self.thermophysical_it =  False # Thermophysical iteration \n",
    "        # switch for the non-eq model\n",
    "        pass\n",
    "    \n",
    "    def set_HeatTransProps(self, U_L, U_V, Q_b, Q_roof, T_air):\n",
    "        \"\"\"Set separately tank heat transfer properties\n",
    "        Usage: set_HeatTransProps(self, U_L, U_V, Q_b, Q_roof, T_air)\"\"\"\n",
    "        self.U_L = U_L # [W*m^-2*K^-1]Overall heat transfer coefficient\n",
    "        # for the liquid phase stored in the tank\n",
    "        self.U_V = U_V # [W*m^-2*K^-1] Overall heat transfer coefficient\n",
    "        # for the vapour phase stored in the tank\n",
    "        self.Q_b = Q_b # [W] Heat ingress through the bottom / W\n",
    "        self.Q_roof = Q_roof # [W] Heat ingress through the roof\n",
    "        self.T_air = T_air # [K] Temperature of the surrounding air /K\n",
    "        pass\n",
    "    \n",
    "    def set_LF(self, LF): \n",
    "        \"\"\"Update liquid filling and vapour length\"\"\" \n",
    "        self.LF = LF # [-] set tank liquid filling\n",
    "        self.l_V = self.l * (1-LF) # [m] sets vapour length\n",
    "        pass\n",
    "    \n",
    "    def set_advective_v(self):\n",
    "        \"\"\"Update advective velocity with respect to tank liquid filling\"\"\"\n",
    "        # Area of the tank walls in contact with the liquid phase\n",
    "        A_L = np.pi * self.d_o * self.l * self.LF\n",
    "        # Initial wall heat ingress \n",
    "        Q_L0 = self.U_V * A_L * (self.T_air-self.cryogen.T_sat)\n",
    "        # Initial evaporation rate mol/s\n",
    "        BL_0 = (Q_L0 + self.Q_b)/((self.cryogen.h_V-self.cryogen.h_L))\n",
    "        self.v_z = 4*BL_0/(self.cryogen.rho_V*np.pi*self.d_i**2)\n",
    "        pass"
   ]
  },
  {
   "cell_type": "markdown",
   "metadata": {},
   "source": [
    "## Cryogen class definition\n",
    "The cryogen class contains the thermophysical properties of a pure cryogen."
   ]
  },
  {
   "cell_type": "code",
   "execution_count": 3,
   "metadata": {},
   "outputs": [],
   "source": [
    "class Cryogen:\n",
    "    \"\"\" Class which contains a cryogen thermodynamic\n",
    "    and thermophysical properties \"\"\"\n",
    "    def __init__(self, name, P, T_sat, rho_L, rho_V, h_L, h_V, k_V, cp_V):\n",
    "        \"\"\"Constructor\"\"\"\n",
    "        self.name = name\n",
    "        self.P = P # Pressure / Pa\n",
    "        self.T_sat = T_sat # Saturation temperature / K\n",
    "        self.rho_L = rho_L # Liquid Density / mol*m^-3\n",
    "        self.rho_V = rho_V # Vapour density / mol*m^-3\n",
    "        self.rho_V_sat = rho_V # Initialize vapour density at the interface\n",
    "        self.h_L = h_L # Liquid enthalpy J/mol\n",
    "        self.h_V = h_V # Vapour enthalpy J/mol\n",
    "        self.k_V = k_V # Thermal conductivity of the vapour W/mK\n",
    "        self.k_int = k_V # Thermal conductivity at the vapour-liquid interface\n",
    "        self.cp_V = cp_V # Heat capacity at constant pressure / J/molK"
   ]
  },
  {
   "cell_type": "markdown",
   "metadata": {},
   "source": [
    "# Analytical solutions and auxiliary functions"
   ]
  },
  {
   "cell_type": "markdown",
   "metadata": {},
   "source": [
    "## Equilibrium model\n",
    "\n",
    "We can build the solutions from a selected storage tank"
   ]
  },
  {
   "cell_type": "code",
   "execution_count": 4,
   "metadata": {},
   "outputs": [],
   "source": [
    "def equilibrium_sols(tank):\n",
    "    \"\"\"Calculates coefficients C and D in the analytical solution\n",
    "    \n",
    "    Return values:    C, D, V_L0    \"\"\"\n",
    "    C = -4*tank.d_o/tank.d_i**2 * \\\n",
    "    (tank.T_air - tank.cryogen.T_sat) / \\\n",
    "    (tank.cryogen.rho_L*(tank.cryogen.h_V - tank.cryogen.h_L)) * \\\n",
    "    (tank.U_L - tank.U_V)\n",
    "    \n",
    "    D = -1 /(tank.cryogen.rho_L*(tank.cryogen.h_V - tank.cryogen.h_L)) * \\\n",
    "    ( 4*tank.d_o/tank.d_i**2 * (tank.T_air - tank.cryogen.T_sat) * \\\n",
    "    tank.U_V * tank.V + tank.Q_b )\n",
    "    \n",
    "    V_L0 = tank.V*tank.LF\n",
    "    \n",
    "    return C, D, V_L0"
   ]
  },
  {
   "cell_type": "code",
   "execution_count": 5,
   "metadata": {},
   "outputs": [],
   "source": [
    "def V_L(t, C, D, V_L0):\n",
    "    \"\"\"Analytical solution for the liquid volume\"\"\"\n",
    "    if (C != 0):\n",
    "        V_L = D/C * ( np.exp(C*t)-1 ) + V_L0*np.exp(C*t)\n",
    "    else:\n",
    "        V_L = D*t + V_L0\n",
    "    return V_L\n",
    "\n",
    "# We can also define the BOG rate\n",
    "def BOG(t, cryogen, C, D, V_L0):\n",
    "    \"\"\"BOG\"\"\"\n",
    "    return (cryogen.rho_V - cryogen.rho_L) * ( C*V_L(t, C,D,V_L0) + D)"
   ]
  },
  {
   "cell_type": "code",
   "execution_count": 6,
   "metadata": {},
   "outputs": [],
   "source": [
    "def tau_evap(C,D,V_L0):\n",
    "    \"\"\"tau_evap(C,D,V_L0) estimates the evaporation time\"\"\"\n",
    "    if C != 0:\n",
    "        tau_evap = -1/C * np.log (1 + V_L0 * C/D)\n",
    "    else:\n",
    "        tau_evap = - V_L0/D\n",
    "    return tau_evap"
   ]
  },
  {
   "cell_type": "markdown",
   "metadata": {},
   "source": [
    "## Initialize cryogens"
   ]
  },
  {
   "cell_type": "code",
   "execution_count": 7,
   "metadata": {},
   "outputs": [],
   "source": [
    "# Cryogen thermophysical properties obtained from REFPROP 9.0\n",
    "\n",
    "# Nitrogen\n",
    "\n",
    "k_V = 7.1744e-3   #  W/(m2K)\n",
    "k_V_roof = k_V # Assume k_V_roof = k_V \n",
    "rho_V = 162.65316 # mol/m^3\n",
    "rho_L = 2.8793e4  # mol/m^3\n",
    "cp_V = 31.4624    # J/molK\n",
    "T_L = 77.2435     # /K\n",
    "h_V = 2.2045e3    # J/kgK\n",
    "h_L = -3.3132e3   # J/kgK\n",
    "P = 100000        # Pa\n",
    "\n",
    "nitrogen = Cryogen(\"nitrogen\", P, T_L, rho_L, rho_V, h_L, h_V, k_V, cp_V)\n",
    "\n",
    "# Methane\n",
    "methane = Cryogen(\"methane\", 116325, 113.2534, 2.6205e4, 128.1975, \\\n",
    "                 98.9155, 8.2684e3, 0.0117, 35.7950)"
   ]
  },
  {
   "cell_type": "markdown",
   "metadata": {},
   "source": [
    "## Initialize large tank"
   ]
  },
  {
   "cell_type": "code",
   "execution_count": 8,
   "metadata": {},
   "outputs": [],
   "source": [
    "# Input tank properties\n",
    "Q_roof = 0 # W\n",
    "d_i = 76.4 # m\n",
    "d_o = 80   # m\n",
    "LF = 0.97 \n",
    "T_air = 293.15 # K\n",
    "U_V = 0.0371 # W/m^2K\n",
    "Q_b = 60000 # W, heat ingress from the bottom\n",
    "V_tank = 165000 #m^3\n",
    "\n",
    "# Initialize tank\n",
    "large_tank = Tank(d_i, d_o, V_tank)\n",
    "large_tank.set_HeatTransProps(U_V, U_V, Q_b, Q_roof, T_air)\n",
    "large_tank.set_LF(LF)\n",
    "large_tank.cryogen = methane\n",
    "large_tank.set_advective_v()"
   ]
  },
  {
   "cell_type": "code",
   "execution_count": 9,
   "metadata": {
    "scrolled": true
   },
   "outputs": [],
   "source": [
    "# Build the analytical solutions\n",
    "C, D, V_L0 = equilibrium_sols(large_tank)"
   ]
  },
  {
   "cell_type": "markdown",
   "metadata": {},
   "source": [
    "## Non-equilibrium model functions and solutions"
   ]
  },
  {
   "cell_type": "markdown",
   "metadata": {},
   "source": [
    "### Create the coefficients $\\chi_{\\pm,}, c_1$ and $c_2$"
   ]
  },
  {
   "cell_type": "code",
   "execution_count": 10,
   "metadata": {},
   "outputs": [],
   "source": [
    "# PDE coefficients\n",
    "def analytical_T_neq(tank):\n",
    "    \"\"\" Calculates the parameters for the vapour temperature \n",
    "    profile & vapour to liquid heat transfer rate\n",
    "    \n",
    "    Return values:\n",
    "    chi_minus, chi_plus, c_1, c_2\n",
    "    \"\"\"\n",
    "    name_BC = tank.roof_BC\n",
    "    cryo = tank.cryogen\n",
    "    H = cryo.rho_V*cryo.cp_V*tank.v_z\n",
    "    S = 4*tank.U_V*tank.d_o/tank.d_i**2\n",
    "    E = S*tank.T_air\n",
    "    # Temperature gradient at the tank roof, if defined\n",
    "    try:\n",
    "        gradT_roof = tank.Q_roof/(tank.k_V_roof*tank.A_T)\n",
    "    except:\n",
    "        gradT_roof = tank.Q_roof/(cryo.k_V*tank.A_T)            \n",
    "    # Chi plus minus\n",
    "    chi_plus = (H + np.sqrt(H**2+4*cryo.k_V*S))/(2*cryo.k_V)\n",
    "    chi_minus = (H - np.sqrt(H**2+4*cryo.k_V*S))/(2*cryo.k_V)\n",
    "        \n",
    "    b_plus = np.exp(tank.l_V*chi_plus)\n",
    "    b_minus = np.exp(tank.l_V*chi_minus)\n",
    "\n",
    "    a_plus = chi_plus*b_plus\n",
    "    a_minus = chi_minus*b_minus\n",
    "    \n",
    "    if(name_BC == \"Neumann\"):\n",
    "        c_1 = (a_plus*(cryo.T_sat-tank.T_air) - gradT_roof)/(a_plus-a_minus)\n",
    "        c_2 = (a_minus*(tank.T_air-cryo.T_sat) + gradT_roof)/(a_plus-a_minus)\n",
    "    elif (name_BC == \"Robin\"):\n",
    "        try:\n",
    "            gamma = U_roof / k_V_roof\n",
    "        except:\n",
    "            gamma = tank.U_V / k_V_roof\n",
    "        c_1 = (cryo.T_sat-tank.T_air)*(a_plus + gamma*b_plus)/ \\\n",
    "        ( (a_plus+gamma*b_plus)-(a_minus + gamma*b_minus))\n",
    "        c_2 = (tank.T_air-cryo.T_sat)*(a_minus + gamma*b_minus) /\\\n",
    "        ((a_plus + gamma*b_plus) - (a_minus + gamma*b_minus))\n",
    "    else:\n",
    "        raise Exception(\"Unsupported BC, use Neumann or Robin\")\n",
    "    return chi_minus, chi_plus, c_1, c_2"
   ]
  },
  {
   "cell_type": "markdown",
   "metadata": {},
   "source": [
    "### Vapour temperature"
   ]
  },
  {
   "cell_type": "code",
   "execution_count": 11,
   "metadata": {},
   "outputs": [],
   "source": [
    "def T_V(z, c_1, c_2, chi_minus, chi_plus, T_air):\n",
    "    \"\"\"Outputs the vapour temperature profile. \n",
    "    z must be a length vector with 0 < z < l_V.\n",
    "    The coefficients of the vapour T profile are also inputs\"\"\"\n",
    "    TV = c_1*np.exp(z*chi_minus) + c_2 * np.exp(z*chi_plus) + T_air\n",
    "    return TV"
   ]
  },
  {
   "cell_type": "markdown",
   "metadata": {},
   "source": [
    "### Vapour to liquid heat transfer rate"
   ]
  },
  {
   "cell_type": "code",
   "execution_count": 12,
   "metadata": {
    "scrolled": true
   },
   "outputs": [],
   "source": [
    "def Q_VL(tank):\n",
    "    \"\"\"Calculates the vapour to liquid heat ingress\"\"\"\n",
    "    chi_minus, chi_plus, c_1, c_2 = analytical_T_neq(tank)\n",
    "    Q = np.pi * tank.d_i **2/4 * tank.cryogen.k_int * (c_1*chi_minus + c_2*chi_plus)\n",
    "    return Q"
   ]
  },
  {
   "cell_type": "markdown",
   "metadata": {},
   "source": [
    "### Average vapour temperature"
   ]
  },
  {
   "cell_type": "code",
   "execution_count": 13,
   "metadata": {},
   "outputs": [],
   "source": [
    "def Tv_avg(tank):\n",
    "    \"\"\"Calculates the average vapour temperature\n",
    "    for the non-equilibrium model\"\"\"\n",
    "    chi_minus, chi_plus, c_1, c_2 = analytical_T_neq(tank)\n",
    "    Tv_avg = tank.T_air + 1/tank.l_V * \\\n",
    "    (c_1/chi_minus * (np.exp(tank.l_V*chi_minus)-1) + \\\n",
    "     c_2/chi_plus * (np.exp(tank.l_V*chi_plus)-1))\n",
    "    return Tv_avg"
   ]
  },
  {
   "cell_type": "markdown",
   "metadata": {},
   "source": [
    "### Non-equilibrium coefficients"
   ]
  },
  {
   "cell_type": "code",
   "execution_count": 14,
   "metadata": {},
   "outputs": [],
   "source": [
    "def analytical_neq(tank):\n",
    "    \"\"\"Calculates C_neq and D_neq coefficients\"\"\"\n",
    "    C_neq = -4*tank.d_o/tank.d_i**2 * \\\n",
    "    (tank.T_air - tank.cryogen.T_sat) / \\\n",
    "    (tank.cryogen.rho_L * (tank.cryogen.h_V - tank.cryogen.h_L))* \\\n",
    "    tank.U_L\n",
    "\n",
    "    D_neq = - (tank.Q_b + tank.Q_VL)/\\\n",
    "    (tank.cryogen.rho_L * (tank.cryogen.h_V - tank.cryogen.h_L))\n",
    "    return C_neq, D_neq"
   ]
  },
  {
   "cell_type": "code",
   "execution_count": 15,
   "metadata": {
    "scrolled": true
   },
   "outputs": [],
   "source": [
    "def Tv_plot(tank):\n",
    "    \"\"\"Function to plot vapour temperature profile\"\"\"\n",
    "    zspan = np.linspace(0,tank.l_V,100)\n",
    "    chi_minus, chi_plus, c_1, c_2 = analytical_T_neq(tank)\n",
    "    plt.plot(zspan, T_V(zspan, c_1=c_1, c_2=c_2, chi_minus=chi_minus, \\\n",
    "                        chi_plus = chi_plus, T_air = tank.T_air), 'r')\n",
    "    plt.xlabel(\"Height\")\n",
    "    plt.ylabel(\"Vapour Temperature\")"
   ]
  },
  {
   "cell_type": "code",
   "execution_count": 16,
   "metadata": {},
   "outputs": [
    {
     "data": {
      "image/png": "[encoded data removed]",
      "text/plain": [
       "<Figure size 432x288 with 1 Axes>"
      ]
     },
     "metadata": {},
     "output_type": "display_data"
    }
   ],
   "source": [
    "# Example of usage of Tv_plot function\n",
    "Tv_plot(large_tank)"
   ]
  },
  {
   "cell_type": "markdown",
   "metadata": {},
   "source": [
    "## Initialize medium-size storage tank"
   ]
  },
  {
   "cell_type": "code",
   "execution_count": 17,
   "metadata": {},
   "outputs": [],
   "source": [
    "# Tank properties\n",
    "Q_roof = 0 # [W]\n",
    "d_i = 2.8540 # [m]\n",
    "d_o = 3.1480 # [m]\n",
    "V_tank = 80.36 # [m^3]\n",
    "LF = 0.97 \n",
    "T_air = 288.15 # [K]\n",
    "U_V = 0.0110 # W/[m^2*K]\n",
    "Q_b = 17.335 # [W], heat ingress from the bottom\n",
    "\n",
    "mid_tank = Tank(d_i, d_o, V_tank)\n",
    "mid_tank.set_HeatTransProps(U_V, U_V, Q_b, Q_roof, T_air)\n",
    "mid_tank.set_LF(LF)\n",
    "mid_tank.cryogen = nitrogen\n",
    "mid_tank.set_advective_v()\n",
    "mid_tank.Q_VL = 0\n",
    "mid_tank.roof_BC = \"Robin\""
   ]
  },
  {
   "cell_type": "markdown",
   "metadata": {},
   "source": [
    "# Numerical Methods"
   ]
  },
  {
   "cell_type": "markdown",
   "metadata": {},
   "source": [
    "## Direct calculation"
   ]
  },
  {
   "cell_type": "code",
   "execution_count": 18,
   "metadata": {},
   "outputs": [],
   "source": [
    "def direct(tank, timespan):\n",
    "    C_neq, D_neq = analytical_neq(tank)\n",
    "    my_tank = copy.deepcopy(tank)\n",
    "    V_L_direct = V_L(timespan, C=C_neq, D=D_neq, V_L0 = my_tank.V*my_tank.LF)\n",
    "    Q_VL_direct = np.zeros(len(V_L_direct))\n",
    "    for i in range(0,len(V_L_direct),1):\n",
    "        my_tank.set_LF(V_L_direct[i]/my_tank.V)        \n",
    "        # Get the temperature profile\n",
    "        chi_minus, chi_plus, c_1r, c_2r = analytical_T_neq(my_tank)\n",
    "        # Update Q_VL\n",
    "        my_tank.Q_VL = Q_VL(my_tank)\n",
    "        Q_VL_direct[i] = my_tank.Q_VL\n",
    "        my_tank.set_advective_v()\n",
    "        # Update advective velocity\n",
    "\n",
    "    return V_L_direct, Q_VL_direct"
   ]
  },
  {
   "cell_type": "markdown",
   "metadata": {},
   "source": [
    "## Thermophysical iteration\n",
    "\n",
    "This iteration updates the thermophysical properties of the vapour calculated at each timestep at the average temperature. In the original, publication the REFPROP 9.0 library was used to obtain the thermophysical properties of methane and nitrogen at different temperatures and pressures. In this Notebook, we provide polynomials to evaluate $c_p, k_V$ and $\\rho_V$ for methane and nitrogen. For methane, the calculation is performed at the operating pressure of the large tank, while for nitrogen the operating pressure of the small and medium sized tanks is used."
   ]
  },
  {
   "cell_type": "code",
   "execution_count": 19,
   "metadata": {},
   "outputs": [],
   "source": [
    "def T_vec(T):\n",
    "    \"\"\" Utility to calculate polynomials of 6th degree\"\"\"\n",
    "    return np.array([T**6, T**5, T**4, T**3, T**2, T, 1])\n",
    "\n",
    "def k_V(T, cryogen_name):\n",
    "    \"\"\"Vapour thermal conductivity in W/[m*K]\"\"\"\n",
    "    if cryogen_name == \"nitrogen\":\n",
    "        coef = np.array([1.2891e-17,- 1.6853e-14, 8.9835e-12,\\\n",
    "                         - 2.4280e-9, 2.7918e-7, 8.4564e-5, - 1.8214e-4])\n",
    "    else:\n",
    "        coef = np.array([1.05745348829032e-16,-1.66976160737431e-13,\\\n",
    "                         1.06067666935673e-10,-3.42308423973392e-08,\\\n",
    "                         5.92114833456723e-06, -0.000405925906877382,\\\n",
    "                         0.0169054855927478])\n",
    "    k_V = np.dot(T_vec(T),coef)\n",
    "    return k_V\n",
    "    \n",
    "def rho_V(T, cryogen_name):\n",
    "    \"\"\"Vapour density in mol/[m^3]\"\"\"\n",
    "    if cryogen_name == \"nitrogen\":\n",
    "        # P = 100 kPa\n",
    "        coef = np.array([4.023e-12, - 5.3256e-9, 2.9169e-6,\\\n",
    "                         - 8.5257e-4, + 0.1429, - 13.5159, 658.0484]) \n",
    "    else:\n",
    "        coef = np.array([2.18499589355086e-12, -3.14564341280599e-09,\\\n",
    "                         1.89240405227852e-06, -0.000614011250006166,\\\n",
    "                         0.115248233542307,\\\n",
    "                         -12.3574905769077,681.411457371657])\n",
    "    rho_V = np.dot(T_vec(T),coef)\n",
    "    return rho_V\n",
    "\n",
    "def cp_V(T, cryogen_name):\n",
    "    \"\"\" Vapour specific heat capacity in J/[mol*K] \"\"\"\n",
    "    if cryogen_name == \"nitrogen\":\n",
    "        coef = np.array([4.8391e-13, - 6.2028e-10,\\\n",
    "                         3.2526e-7, - 8.9351e-5,\\\n",
    "                         0.0136, - 1.0915, 65.8080])\n",
    "    else:\n",
    "        coef = np.array([8.79997426965283e-13, -1.21803356592957e-09\\\n",
    "                         ,6.93498674769963e-07, \\\n",
    "                         -0.000207819771422151,\\\n",
    "                         0.0347286371956103,\\\n",
    "                         -3.08698360179143,\\\n",
    "                         148.487772497283])\n",
    "    cp = np.dot(T_vec(T),coef)\n",
    "    return cp\n",
    "\n",
    "def thermophysprops(T,cryogen_name):\n",
    "    return k_V(T,cryogen_name), rho_V(T, cryogen_name), cp_V(T, cryogen_name)"
   ]
  },
  {
   "cell_type": "code",
   "execution_count": 20,
   "metadata": {},
   "outputs": [],
   "source": [
    "def thermophysical_iteration(tank):\n",
    "    \"\"\"Update k_V, rho_V and cp_V \n",
    "    for a given liquid filling\"\"\"\n",
    "    # Initialise old vapour temperature\n",
    "    T_old = 0\n",
    "    T_new = Tv_avg(tank)\n",
    "    while abs(T_old-T_new) > 1e-2:\n",
    "        T_old = T_new\n",
    "        # Unpack thermophysical properties\n",
    "        k, rho, cp = thermophysprops(T_old, tank.cryogen.name)\n",
    "        # Update thermophysical properties\n",
    "        tank.cryogen.k_V = k\n",
    "        tank.cryogen.rho_V = rho\n",
    "        tank.cryogen.cp_V = cp\n",
    "        T_new = Tv_avg(tank)"
   ]
  },
  {
   "cell_type": "markdown",
   "metadata": {},
   "source": [
    "## Sequential numerical procedure\n",
    "\n",
    "To improve the performance of the analytical solutions"
   ]
  },
  {
   "cell_type": "code",
   "execution_count": 21,
   "metadata": {
    "scrolled": false
   },
   "outputs": [],
   "source": [
    "def sequential_proc(tank, delta_t = 3600*24*7):\n",
    "    \"\"\" Default timestep delta_t is a week\n",
    "    delta_t must be in seconds\n",
    "    \n",
    "    Returns\n",
    "    \n",
    "    timespan: np.array, timestamps\n",
    "    V_L_analytical: np.array, liquid volume\n",
    "    Q_VL_analytical: np.array, vapour to liquid heat ingress\n",
    "    T_V_analytical: np.array of i*j dimensions.\n",
    "    T_V_analytical[i,j] corresponds to the\n",
    "    temperature profile of the j node in the vapour\n",
    "    at timespan[i], while     T_V_analytical[i,:] \n",
    "    is the whole vapour temperature profile at timespan[i]\n",
    "    \"\"\"\n",
    "    # Initialize Q_VL for the tank\n",
    "    tank.set_advective_v()\n",
    "    tank.Q_VL = Q_VL(tank)\n",
    "    \n",
    "    # Obtain C and D\n",
    "    C_neq, D_neq = analytical_neq(tank)\n",
    "\n",
    "    # Estimate evaporation time\n",
    "    tau_neq = tau_evap(C_neq,D_neq,tank.V*tank.LF)\n",
    "    \n",
    "    # get n_timesteps approximating to \n",
    "    # the highest nearest integer\n",
    "    n_t = int(np.floor(tau_neq/(delta_t))+1) \n",
    "    timespan = np.linspace(0,tau_neq,n_t)\n",
    "\n",
    "    # Initialize V_L and Q_VL\n",
    "    V_L_analytical = np.zeros(n_t)\n",
    "    Q_VL_analytical = np.zeros(n_t)\n",
    "    \n",
    "    V_L_analytical[0] = tank.V*tank.LF\n",
    "    Q_VL_analytical[0] = tank.Q_VL\n",
    "    \n",
    "    LF = copy.deepcopy(tank.LF)\n",
    "    my_tank = copy.deepcopy(tank)\n",
    "\n",
    "    # Initialize vapour temperature\n",
    "    n_z = 100 # Number of nodes in the vapour domain\n",
    "    T_V_analytical = np.zeros([n_t, n_z])\n",
    "    chi_minus, chi_plus, c_1, c_2 = analytical_T_neq(my_tank)\n",
    "    z = np.linspace(0,my_tank.l_V,n_z)\n",
    "    T_V_analytical[0,:] = T_V(z, c_1, c_2, chi_minus, chi_plus, T_air)\n",
    "\n",
    "    \n",
    "    for i in range(1, n_t,1):\n",
    "        # Get V_L at t_0 + delta_t\n",
    "        V_L_analytical[i] = V_L(delta_t, C=C_neq, D=D_neq,\\\n",
    "                                V_L0 = my_tank.V*my_tank.LF)\n",
    "        # Update the liquid filling\n",
    "        my_tank.set_LF(V_L_analytical[i]/my_tank.V)\n",
    "        my_tank.set_advective_v()\n",
    "        # If activated, update thermophysical properties\n",
    "        if tank.thermophysical_it == True:\n",
    "            thermophysical_iteration(my_tank)\n",
    "        # Get the temperature profile for each time step\n",
    "        chi_minus, chi_plus, c_1, c_2 = analytical_T_neq(my_tank)\n",
    "        z = np.linspace(0,my_tank.l_V,n_z)\n",
    "        T_V_analytical[i,:] = T_V(z, c_1, c_2, chi_minus, chi_plus, T_air)\n",
    "        # Update Q_VL\n",
    "        my_tank.Q_VL = Q_VL(my_tank)\n",
    "        Q_VL_analytical[i] = my_tank.Q_VL                \n",
    "        # Update C_neq, D_neq\n",
    "        C_neq, D_neq = analytical_neq(my_tank)\n",
    "    return timespan, V_L_analytical, Q_VL_analytical, T_V_analytical"
   ]
  },
  {
   "cell_type": "markdown",
   "metadata": {},
   "source": [
    "### Usage example"
   ]
  },
  {
   "cell_type": "code",
   "execution_count": 22,
   "metadata": {
    "scrolled": false
   },
   "outputs": [],
   "source": [
    "# We can set on or of the update of thermophysical properties\n",
    "\n",
    "# Set Q_VL at the initial liquid filling\n",
    "mid_tank.Q_VL = Q_VL(mid_tank)\n",
    "C_neq, D_neq = analytical_neq(mid_tank)\n",
    "\n",
    "# Thermophysical iteration and sequential procedure\n",
    "mid_tank.thermophysical_it = True\n",
    "timespan, V_L_analytical, Q_VL_analytical, T_V_analytical = \\\n",
    "sequential_proc(mid_tank, delta_t = 3600*24*7)\n",
    "\n",
    "# Sequential procedure only\n",
    "mid_tank.thermophysical_it = False\n",
    "timespan, V_L_analytical_s, Q_VL_analytical_s, T_V_analytical_s = \\\n",
    "sequential_proc(mid_tank, delta_t = 3600*24*7)\n",
    "\n",
    "# Direct calculation\n",
    "V_L_direct, Q_VL_direct = direct(mid_tank, timespan)"
   ]
  }
 ],
 "metadata": {
  "kernelspec": {
   "display_name": "Python 3",
   "language": "python",
   "name": "python3"
  },
  "language_info": {
   "codemirror_mode": {
    "name": "ipython",
    "version": 3
   },
   "file_extension": ".py",
   "mimetype": "text/x-python",
   "name": "python",
   "nbconvert_exporter": "python",
   "pygments_lexer": "ipython3",
   "version": "3.6.5"
  },
  "latex_metadata": {
   "affiliation": "Department of Earth Science and Engineering, Imperial College London, London SW7 2AZ, UK",
   "author": "Felipe Huerta and Velisa Vesovic",
   "title": "Analytical solutions for the isobaric evaporation of pure cryogens in storage tanks"
  }
 },
 "nbformat": 4,
 "nbformat_minor": 2
}
